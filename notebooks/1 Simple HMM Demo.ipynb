{
 "cells": [
  {
   "cell_type": "markdown",
   "metadata": {},
   "source": [
    "# Start with a simple Hidden Markov Model"
   ]
  },
  {
   "cell_type": "code",
   "execution_count": 1,
   "metadata": {},
   "outputs": [
    {
     "ename": "ModuleNotFoundError",
     "evalue": "No module named 'hips.plotting'",
     "output_type": "error",
     "traceback": [
      "\u001b[0;31m---------------------------------------------------------------------------\u001b[0m",
      "\u001b[0;31mModuleNotFoundError\u001b[0m                       Traceback (most recent call last)",
      "\u001b[0;32m<ipython-input-1-2ceca3aacfef>\u001b[0m in \u001b[0;36m<module>\u001b[0;34m\u001b[0m\n\u001b[1;32m      6\u001b[0m \u001b[0mget_ipython\u001b[0m\u001b[0;34m(\u001b[0m\u001b[0;34m)\u001b[0m\u001b[0;34m.\u001b[0m\u001b[0mrun_line_magic\u001b[0m\u001b[0;34m(\u001b[0m\u001b[0;34m'matplotlib'\u001b[0m\u001b[0;34m,\u001b[0m \u001b[0;34m'inline'\u001b[0m\u001b[0;34m)\u001b[0m\u001b[0;34m\u001b[0m\u001b[0;34m\u001b[0m\u001b[0m\n\u001b[1;32m      7\u001b[0m \u001b[0;34m\u001b[0m\u001b[0m\n\u001b[0;32m----> 8\u001b[0;31m \u001b[0;32mfrom\u001b[0m \u001b[0mhips\u001b[0m\u001b[0;34m.\u001b[0m\u001b[0mplotting\u001b[0m\u001b[0;34m.\u001b[0m\u001b[0mcolormaps\u001b[0m \u001b[0;32mimport\u001b[0m \u001b[0mgradient_cmap\u001b[0m\u001b[0;34m,\u001b[0m \u001b[0mwhite_to_color_cmap\u001b[0m\u001b[0;34m\u001b[0m\u001b[0;34m\u001b[0m\u001b[0m\n\u001b[0m\u001b[1;32m      9\u001b[0m \u001b[0;32mimport\u001b[0m \u001b[0mseaborn\u001b[0m \u001b[0;32mas\u001b[0m \u001b[0msns\u001b[0m\u001b[0;34m\u001b[0m\u001b[0;34m\u001b[0m\u001b[0m\n\u001b[1;32m     10\u001b[0m \u001b[0msns\u001b[0m\u001b[0;34m.\u001b[0m\u001b[0mset_style\u001b[0m\u001b[0;34m(\u001b[0m\u001b[0;34m\"white\"\u001b[0m\u001b[0;34m)\u001b[0m\u001b[0;34m\u001b[0m\u001b[0;34m\u001b[0m\u001b[0m\n",
      "\u001b[0;31mModuleNotFoundError\u001b[0m: No module named 'hips.plotting'"
     ]
    }
   ],
   "source": [
    "import autograd.numpy as np\n",
    "import autograd.numpy.random as npr\n",
    "npr.seed(0)\n",
    "\n",
    "import matplotlib.pyplot as plt\n",
    "%matplotlib inline\n",
    "\n",
    "from hips.plotting.colormaps import gradient_cmap, white_to_color_cmap\n",
    "import seaborn as sns\n",
    "sns.set_style(\"white\")\n",
    "sns.set_context(\"talk\")\n",
    "\n",
    "color_names = [\n",
    "    \"windows blue\",\n",
    "    \"red\",\n",
    "    \"amber\",\n",
    "    \"faded green\",\n",
    "    \"dusty purple\",\n",
    "    \"orange\"\n",
    "    ]\n",
    "\n",
    "colors = sns.xkcd_palette(color_names)\n",
    "cmap = gradient_cmap(colors)\n",
    "\n",
    "import ssm\n",
    "from ssm.util import find_permutation\n",
    "\n",
    "# Speficy whether or not to save figures\n",
    "save_figures = True"
   ]
  },
  {
   "cell_type": "code",
   "execution_count": null,
   "metadata": {},
   "outputs": [],
   "source": [
    "# Set the parameters of the HMM\n",
    "T = 200   # number of time bins\n",
    "K = 5       # number of discrete states\n",
    "D = 2       # data dimension\n",
    "\n",
    "# Make an HMM\n",
    "true_hmm = ssm.HMM(K, D, observations=\"gaussian\")\n",
    "\n",
    "# Manually tweak the means to make them farther apart\n",
    "thetas = np.linspace(0, 2 * np.pi, K, endpoint=False)\n",
    "true_hmm.observations.mus = 3 * np.column_stack((np.cos(thetas), np.sin(thetas)))"
   ]
  },
  {
   "cell_type": "code",
   "execution_count": null,
   "metadata": {},
   "outputs": [],
   "source": [
    "# Sample some data from the HMM\n",
    "z, y = true_hmm.sample(T)\n",
    "true_ll = true_hmm.log_probability(y)"
   ]
  },
  {
   "cell_type": "code",
   "execution_count": null,
   "metadata": {},
   "outputs": [],
   "source": [
    "# Plot the observation distributions\n",
    "lim = .85 * abs(y).max()\n",
    "XX, YY = np.meshgrid(np.linspace(-lim, lim, 100), np.linspace(-lim, lim, 100))\n",
    "data = np.column_stack((XX.ravel(), YY.ravel()))\n",
    "input = np.zeros((data.shape[0], 0))\n",
    "mask = np.ones_like(data, dtype=bool)\n",
    "tag = None\n",
    "lls = true_hmm.observations.log_likelihoods(data, input, mask, tag)"
   ]
  },
  {
   "cell_type": "code",
   "execution_count": null,
   "metadata": {},
   "outputs": [],
   "source": [
    "plt.figure(figsize=(6, 6))\n",
    "for k in range(K):\n",
    "    plt.contour(XX, YY, np.exp(lls[:,k]).reshape(XX.shape), cmap=white_to_color_cmap(colors[k]))\n",
    "    plt.plot(y[z==k, 0], y[z==k, 1], 'o', mfc=colors[k], mec='none', ms=4)\n",
    "    \n",
    "plt.plot(y[:,0], y[:,1], '-k', lw=1, alpha=.25)\n",
    "plt.xlabel(\"$y_1$\")\n",
    "plt.ylabel(\"$y_2$\")\n",
    "plt.title(\"Observation Distributions\")\n",
    "\n",
    "if save_figures:\n",
    "    plt.savefig(\"hmm_1.pdf\")"
   ]
  },
  {
   "cell_type": "code",
   "execution_count": null,
   "metadata": {},
   "outputs": [],
   "source": [
    "# Plot the data and the smoothed data\n",
    "lim = 1.05 * abs(y).max()\n",
    "plt.figure(figsize=(8, 6))\n",
    "plt.imshow(z[None,:], aspect=\"auto\", cmap=cmap, vmin=0, vmax=len(colors)-1, extent=(0, T, -lim, (D)*lim))\n",
    "\n",
    "Ey = true_hmm.observations.mus[z]\n",
    "for d in range(D):\n",
    "    plt.plot(y[:,d] + lim * d, '-k')\n",
    "    plt.plot(Ey[:,d] + lim * d, ':k')\n",
    "\n",
    "plt.xlim(0, T)\n",
    "plt.xlabel(\"time\")\n",
    "plt.yticks(lim * np.arange(D), [\"$y_{}$\".format(d+1) for d in range(D)])\n",
    "\n",
    "plt.title(\"Simulated data from an HMM\")\n",
    "\n",
    "plt.tight_layout()\n",
    "\n",
    "if save_figures:\n",
    "    plt.savefig(\"hmm_2.pdf\")"
   ]
  },
  {
   "cell_type": "markdown",
   "metadata": {},
   "source": [
    "# Fit an HMM to this synthetic data"
   ]
  },
  {
   "cell_type": "code",
   "execution_count": null,
   "metadata": {},
   "outputs": [],
   "source": [
    "N_iters = 50\n",
    "hmm = ssm.HMM(K, D, observations=\"gaussian\")\n",
    "hmm_lls = hmm.fit(y, method=\"em\", num_em_iters=N_iters)\n",
    "\n",
    "plt.plot(hmm_lls, label=\"EM\")\n",
    "plt.plot([0, N_iters], true_ll * np.ones(2), ':k', label=\"True\")\n",
    "plt.xlabel(\"EM Iteration\")\n",
    "plt.ylabel(\"Log Probability\")\n",
    "plt.legend(loc=\"lower right\")"
   ]
  },
  {
   "cell_type": "code",
   "execution_count": null,
   "metadata": {},
   "outputs": [],
   "source": [
    "# Find a permutation of the states that best matches the true and inferred states\n",
    "hmm.permute(find_permutation(z, hmm.most_likely_states(y)))"
   ]
  },
  {
   "cell_type": "code",
   "execution_count": null,
   "metadata": {},
   "outputs": [],
   "source": [
    "# Plot the true and inferred discrete states\n",
    "hmm_z = hmm.most_likely_states(y)\n",
    "\n",
    "plt.figure(figsize=(8, 4))\n",
    "plt.subplot(211)\n",
    "plt.imshow(z[None,:], aspect=\"auto\", cmap=cmap, vmin=0, vmax=len(colors)-1)\n",
    "plt.xlim(0, T)\n",
    "plt.ylabel(\"$z_{\\\\mathrm{true}}$\")\n",
    "plt.yticks([])\n",
    "\n",
    "plt.subplot(212)\n",
    "plt.imshow(hmm_z[None,:], aspect=\"auto\", cmap=cmap, vmin=0, vmax=len(colors)-1)\n",
    "plt.xlim(0, T)\n",
    "plt.ylabel(\"$z_{\\\\mathrm{inferred}}$\")\n",
    "plt.yticks([])\n",
    "plt.xlabel(\"time\")\n",
    "\n",
    "plt.tight_layout()"
   ]
  },
  {
   "cell_type": "code",
   "execution_count": null,
   "metadata": {},
   "outputs": [],
   "source": [
    "# Use the HMM to \"smooth\" the data\n",
    "hmm_y = hmm.smooth(y)\n",
    "\n",
    "plt.figure(figsize=(8, 4))\n",
    "plt.plot(y + 3 * np.arange(D), '-k', lw=2)\n",
    "plt.plot(hmm_y + 3 * np.arange(D), '-', lw=2)\n",
    "plt.xlim(0, T)\n",
    "plt.ylabel(\"$y$\")\n",
    "# plt.yticks([])\n",
    "plt.xlabel(\"time\")"
   ]
  }
 ],
 "metadata": {
  "kernelspec": {
   "display_name": "Python [conda env:ssm] *",
   "language": "python",
   "name": "conda-env-ssm-py"
  },
  "language_info": {
   "codemirror_mode": {
    "name": "ipython",
    "version": 3
   },
   "file_extension": ".py",
   "mimetype": "text/x-python",
   "name": "python",
   "nbconvert_exporter": "python",
   "pygments_lexer": "ipython3",
   "version": "3.7.4"
  }
 },
 "nbformat": 4,
 "nbformat_minor": 4
}
